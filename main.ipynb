{
 "cells": [
  {
   "metadata": {
    "ExecuteTime": {
     "end_time": "2024-10-31T16:13:54.503100Z",
     "start_time": "2024-10-31T16:13:54.498494Z"
    }
   },
   "cell_type": "code",
   "source": [
    "import pandas as pd\n",
    "import numpy as np\n",
    "from catboost import CatBoostClassifier, Pool\n",
    "from sklearn.metrics import roc_auc_score"
   ],
   "id": "7df9140457caed5e",
   "outputs": [],
   "execution_count": 19
  },
  {
   "metadata": {
    "ExecuteTime": {
     "end_time": "2024-10-31T16:14:35.083597Z",
     "start_time": "2024-10-31T16:13:54.524876Z"
    }
   },
   "cell_type": "code",
   "source": [
    "# Загрузка данных\n",
    "triggers = pd.read_csv('triggers.csv')\n",
    "actions = pd.read_csv('actions.csv')\n",
    "\n"
   ],
   "id": "688b5430adc233f3",
   "outputs": [],
   "execution_count": 20
  },
  {
   "metadata": {
    "ExecuteTime": {
     "end_time": "2024-10-31T16:14:35.126906Z",
     "start_time": "2024-10-31T16:14:35.116797Z"
    }
   },
   "cell_type": "code",
   "source": "triggers.head()",
   "id": "96ab34539d07041f",
   "outputs": [
    {
     "data": {
      "text/plain": [
       "                                   guid                 date  trigger  type\n",
       "0  018bdd75-83fc-2510-50e7-153f7b5e4b64  2024-05-31 23:55:27     2047     2\n",
       "1  0187a472-becb-7994-5e1e-f179b60bc141  2024-05-31 23:55:27      168     2\n",
       "2  018ba175-9e02-8c7a-e522-6e5fec6949a0  2024-05-31 23:55:26     1807     2\n",
       "3  018ba175-9e02-8c7a-e522-6e5fec6949a0  2024-05-31 23:55:26     2048     2\n",
       "4  018e9cfb-c8bc-f38b-e209-5a77c5324a14  2024-05-31 23:55:26     1773     2"
      ],
      "text/html": [
       "<div>\n",
       "<style scoped>\n",
       "    .dataframe tbody tr th:only-of-type {\n",
       "        vertical-align: middle;\n",
       "    }\n",
       "\n",
       "    .dataframe tbody tr th {\n",
       "        vertical-align: top;\n",
       "    }\n",
       "\n",
       "    .dataframe thead th {\n",
       "        text-align: right;\n",
       "    }\n",
       "</style>\n",
       "<table border=\"1\" class=\"dataframe\">\n",
       "  <thead>\n",
       "    <tr style=\"text-align: right;\">\n",
       "      <th></th>\n",
       "      <th>guid</th>\n",
       "      <th>date</th>\n",
       "      <th>trigger</th>\n",
       "      <th>type</th>\n",
       "    </tr>\n",
       "  </thead>\n",
       "  <tbody>\n",
       "    <tr>\n",
       "      <th>0</th>\n",
       "      <td>018bdd75-83fc-2510-50e7-153f7b5e4b64</td>\n",
       "      <td>2024-05-31 23:55:27</td>\n",
       "      <td>2047</td>\n",
       "      <td>2</td>\n",
       "    </tr>\n",
       "    <tr>\n",
       "      <th>1</th>\n",
       "      <td>0187a472-becb-7994-5e1e-f179b60bc141</td>\n",
       "      <td>2024-05-31 23:55:27</td>\n",
       "      <td>168</td>\n",
       "      <td>2</td>\n",
       "    </tr>\n",
       "    <tr>\n",
       "      <th>2</th>\n",
       "      <td>018ba175-9e02-8c7a-e522-6e5fec6949a0</td>\n",
       "      <td>2024-05-31 23:55:26</td>\n",
       "      <td>1807</td>\n",
       "      <td>2</td>\n",
       "    </tr>\n",
       "    <tr>\n",
       "      <th>3</th>\n",
       "      <td>018ba175-9e02-8c7a-e522-6e5fec6949a0</td>\n",
       "      <td>2024-05-31 23:55:26</td>\n",
       "      <td>2048</td>\n",
       "      <td>2</td>\n",
       "    </tr>\n",
       "    <tr>\n",
       "      <th>4</th>\n",
       "      <td>018e9cfb-c8bc-f38b-e209-5a77c5324a14</td>\n",
       "      <td>2024-05-31 23:55:26</td>\n",
       "      <td>1773</td>\n",
       "      <td>2</td>\n",
       "    </tr>\n",
       "  </tbody>\n",
       "</table>\n",
       "</div>"
      ]
     },
     "execution_count": 21,
     "metadata": {},
     "output_type": "execute_result"
    }
   ],
   "execution_count": 21
  },
  {
   "metadata": {
    "ExecuteTime": {
     "end_time": "2024-10-31T16:14:35.211300Z",
     "start_time": "2024-10-31T16:14:35.200534Z"
    }
   },
   "cell_type": "code",
   "source": "actions.head()",
   "id": "d639fffeddc405d3",
   "outputs": [
    {
     "data": {
      "text/plain": [
       "                                   guid                 date  result\n",
       "0  0187a45c-6784-7e2f-5d84-f3c89dee6a60  2024-05-20 08:28:13       0\n",
       "1  0187a45d-650b-4a4f-ea59-9432556c9b1d  2024-05-31 08:19:10       0\n",
       "2  018ba1bd-3c62-0269-e77f-655655f10b3e  2024-05-13 09:01:37       0\n",
       "3  018efb50-1738-e3af-58e8-0550e9a272ca  2024-05-22 05:18:46       0\n",
       "4  0187a45c-7aa1-3ec6-3c68-c86cb9172299  2024-05-10 16:18:53       0"
      ],
      "text/html": [
       "<div>\n",
       "<style scoped>\n",
       "    .dataframe tbody tr th:only-of-type {\n",
       "        vertical-align: middle;\n",
       "    }\n",
       "\n",
       "    .dataframe tbody tr th {\n",
       "        vertical-align: top;\n",
       "    }\n",
       "\n",
       "    .dataframe thead th {\n",
       "        text-align: right;\n",
       "    }\n",
       "</style>\n",
       "<table border=\"1\" class=\"dataframe\">\n",
       "  <thead>\n",
       "    <tr style=\"text-align: right;\">\n",
       "      <th></th>\n",
       "      <th>guid</th>\n",
       "      <th>date</th>\n",
       "      <th>result</th>\n",
       "    </tr>\n",
       "  </thead>\n",
       "  <tbody>\n",
       "    <tr>\n",
       "      <th>0</th>\n",
       "      <td>0187a45c-6784-7e2f-5d84-f3c89dee6a60</td>\n",
       "      <td>2024-05-20 08:28:13</td>\n",
       "      <td>0</td>\n",
       "    </tr>\n",
       "    <tr>\n",
       "      <th>1</th>\n",
       "      <td>0187a45d-650b-4a4f-ea59-9432556c9b1d</td>\n",
       "      <td>2024-05-31 08:19:10</td>\n",
       "      <td>0</td>\n",
       "    </tr>\n",
       "    <tr>\n",
       "      <th>2</th>\n",
       "      <td>018ba1bd-3c62-0269-e77f-655655f10b3e</td>\n",
       "      <td>2024-05-13 09:01:37</td>\n",
       "      <td>0</td>\n",
       "    </tr>\n",
       "    <tr>\n",
       "      <th>3</th>\n",
       "      <td>018efb50-1738-e3af-58e8-0550e9a272ca</td>\n",
       "      <td>2024-05-22 05:18:46</td>\n",
       "      <td>0</td>\n",
       "    </tr>\n",
       "    <tr>\n",
       "      <th>4</th>\n",
       "      <td>0187a45c-7aa1-3ec6-3c68-c86cb9172299</td>\n",
       "      <td>2024-05-10 16:18:53</td>\n",
       "      <td>0</td>\n",
       "    </tr>\n",
       "  </tbody>\n",
       "</table>\n",
       "</div>"
      ]
     },
     "execution_count": 22,
     "metadata": {},
     "output_type": "execute_result"
    }
   ],
   "execution_count": 22
  },
  {
   "metadata": {
    "ExecuteTime": {
     "end_time": "2024-10-31T16:14:40.446088Z",
     "start_time": "2024-10-31T16:14:35.335026Z"
    }
   },
   "cell_type": "code",
   "source": [
    "triggers['date'] = pd.to_datetime(triggers['date'])\n",
    "actions['date'] = pd.to_datetime(actions['date'])"
   ],
   "id": "4ef54559b4ce9ae2",
   "outputs": [],
   "execution_count": 23
  },
  {
   "metadata": {},
   "cell_type": "markdown",
   "source": [
    "- Сортировка данных по столбцам 'date' и 'guid' для корректного объединения данных.\n",
    "- Необходима для работы метода merge_asof, который требует отсортированных данных.\n"
   ],
   "id": "cc1420a4f31cb9c3"
  },
  {
   "metadata": {
    "ExecuteTime": {
     "end_time": "2024-10-31T16:15:50.546421Z",
     "start_time": "2024-10-31T16:14:40.569175Z"
    }
   },
   "cell_type": "code",
   "source": [
    "triggers = triggers.sort_values(['date', 'guid'], ascending=[True, True]).reset_index(drop=True)\n",
    "actions = actions.sort_values(['date', 'guid'], ascending=[True, True]).reset_index(drop=True)"
   ],
   "id": "b430c84671df6867",
   "outputs": [],
   "execution_count": 24
  },
  {
   "metadata": {},
   "cell_type": "markdown",
   "source": [
    "- Объединение данных triggers и actions по 'guid' и ближайшей дате события с использованием pd.merge_asof.\n",
    "- direction='forward' находит ближайшее будущее действие после триггера.\n",
    "- allow_exact_matches=True позволяет включать совпадающие даты."
   ],
   "id": "3162fd29785fe2f4"
  },
  {
   "metadata": {
    "ExecuteTime": {
     "end_time": "2024-10-31T16:16:04.609279Z",
     "start_time": "2024-10-31T16:15:50.618075Z"
    }
   },
   "cell_type": "code",
   "source": [
    "merged = pd.merge_asof(\n",
    "    triggers,\n",
    "    actions,\n",
    "    by='guid',\n",
    "    on='date',\n",
    "    direction='forward',\n",
    "    suffixes=('', '_action'),\n",
    "    allow_exact_matches=True\n",
    ")\n",
    "merged['result'] = merged['result'].fillna(0)"
   ],
   "id": "36324e83cc90fa27",
   "outputs": [],
   "execution_count": 25
  },
  {
   "metadata": {},
   "cell_type": "markdown",
   "source": "#### Вычисление времени (в днях) с момента последнего триггера для каждого пользователя.",
   "id": "e6aae89d011ce3d3"
  },
  {
   "metadata": {
    "ExecuteTime": {
     "end_time": "2024-10-31T16:16:20.324810Z",
     "start_time": "2024-10-31T16:16:04.630893Z"
    }
   },
   "cell_type": "code",
   "source": [
    "merged['time_since_last_trigger'] = merged.groupby('guid')['date'].diff().dt.total_seconds() / (3600*24)\n",
    "merged['time_since_last_trigger'] = merged['time_since_last_trigger'].fillna(0)"
   ],
   "id": "d6b104f76d8ebba",
   "outputs": [],
   "execution_count": 26
  },
  {
   "metadata": {},
   "cell_type": "markdown",
   "source": "#### Подсчет кумулятивного количества триггеров для каждого пользователя, чтобы отразить активность пользователя.",
   "id": "73cf8d824037374e"
  },
  {
   "metadata": {
    "ExecuteTime": {
     "end_time": "2024-10-31T16:16:37.326700Z",
     "start_time": "2024-10-31T16:16:20.347733Z"
    }
   },
   "cell_type": "code",
   "source": "merged['trigger_count'] = merged.groupby('guid').cumcount()",
   "id": "d4d1063b337eb2a7",
   "outputs": [],
   "execution_count": 27
  },
  {
   "metadata": {},
   "cell_type": "markdown",
   "source": [
    "#### Подсчет количества предыдущих успешных взаимодействий для каждого пользователя.\n",
    "#### Этот признак показывает склонность пользователя к положительным результатам."
   ],
   "id": "a3a0ab26a112e4bc"
  },
  {
   "metadata": {
    "ExecuteTime": {
     "end_time": "2024-10-31T16:16:51.288926Z",
     "start_time": "2024-10-31T16:16:37.358107Z"
    }
   },
   "cell_type": "code",
   "source": "merged['prev_successes'] = merged.groupby('guid')['result'].cumsum() - merged['result']",
   "id": "2233e8a9969502a5",
   "outputs": [],
   "execution_count": 28
  },
  {
   "metadata": {},
   "cell_type": "markdown",
   "source": "#### Срезание части строк, чтобы не перегружать процессор",
   "id": "404a8fa2fbae24af"
  },
  {
   "metadata": {
    "ExecuteTime": {
     "end_time": "2024-10-31T16:16:51.315082Z",
     "start_time": "2024-10-31T16:16:51.311687Z"
    }
   },
   "cell_type": "code",
   "source": "train_merge = merged.iloc[:5000000]",
   "id": "4f7f4bce89f3100a",
   "outputs": [],
   "execution_count": 29
  },
  {
   "metadata": {},
   "cell_type": "markdown",
   "source": "## Разбиение и обучение модели",
   "id": "ea0362d5b224bb5"
  },
  {
   "metadata": {
    "ExecuteTime": {
     "end_time": "2024-10-31T16:16:52.032505Z",
     "start_time": "2024-10-31T16:16:51.340669Z"
    }
   },
   "cell_type": "code",
   "source": [
    "split_date = train_merge['date'].quantile(0.8)\n",
    "train_data = train_merge[train_merge['date'] <= split_date].reset_index(drop=True)\n",
    "val_data = train_merge[train_merge['date'] > split_date].reset_index(drop=True)"
   ],
   "id": "56c79ce23bbfeaf0",
   "outputs": [],
   "execution_count": 30
  },
  {
   "metadata": {
    "ExecuteTime": {
     "end_time": "2024-10-31T16:16:52.061667Z",
     "start_time": "2024-10-31T16:16:52.056720Z"
    }
   },
   "cell_type": "code",
   "source": [
    "features = ['trigger', 'type', 'time_since_last_trigger', 'trigger_count', 'prev_successes']\n",
    "categorical_features = ['trigger', 'type']"
   ],
   "id": "463288cff319757f",
   "outputs": [],
   "execution_count": 31
  },
  {
   "metadata": {
    "ExecuteTime": {
     "end_time": "2024-10-31T16:16:52.090881Z",
     "start_time": "2024-10-31T16:16:52.086712Z"
    }
   },
   "cell_type": "code",
   "source": [
    "features = ['trigger', 'type', 'time_since_last_trigger', 'trigger_count', 'prev_successes']\n",
    "target = 'result'"
   ],
   "id": "1fe056891800bc51",
   "outputs": [],
   "execution_count": 32
  },
  {
   "metadata": {
    "ExecuteTime": {
     "end_time": "2024-10-31T16:16:55.354364Z",
     "start_time": "2024-10-31T16:16:52.115804Z"
    }
   },
   "cell_type": "code",
   "source": [
    "train_pool = Pool(train_data[features], label=train_data['result'], cat_features=categorical_features)\n",
    "val_pool = Pool(val_data[features], label=val_data['result'], cat_features=categorical_features)"
   ],
   "id": "24ef1dccb2b672ef",
   "outputs": [],
   "execution_count": 33
  },
  {
   "metadata": {
    "ExecuteTime": {
     "end_time": "2024-10-31T16:16:55.384112Z",
     "start_time": "2024-10-31T16:16:55.380264Z"
    }
   },
   "cell_type": "code",
   "source": [
    "categorical_features = ['trigger', 'type']\n",
    "numerical_features = ['time_since_last_trigger', 'trigger_count', 'prev_successes']\n"
   ],
   "id": "6f1b4af6b8369f57",
   "outputs": [],
   "execution_count": 34
  },
  {
   "metadata": {
    "ExecuteTime": {
     "end_time": "2024-10-31T16:16:55.420531Z",
     "start_time": "2024-10-31T16:16:55.412091Z"
    }
   },
   "cell_type": "code",
   "source": [
    "model = CatBoostClassifier(\n",
    "    iterations=1000,\n",
    "    learning_rate=0.1,\n",
    "    eval_metric='AUC',\n",
    "    random_seed=42,\n",
    "    use_best_model=True\n",
    ")"
   ],
   "id": "15f95048289d2acf",
   "outputs": [],
   "execution_count": 35
  },
  {
   "metadata": {
    "ExecuteTime": {
     "end_time": "2024-10-31T16:23:01.198555Z",
     "start_time": "2024-10-31T16:16:55.461112Z"
    }
   },
   "cell_type": "code",
   "source": "model.fit(train_pool, eval_set=val_pool, early_stopping_rounds=50, verbose=100)",
   "id": "e69391f513e7f20e",
   "outputs": [
    {
     "name": "stdout",
     "output_type": "stream",
     "text": [
      "0:\ttest: 0.9960389\tbest: 0.9960389 (0)\ttotal: 2.61s\tremaining: 43m 28s\n",
      "100:\ttest: 0.9989268\tbest: 0.9989268 (100)\ttotal: 3m 16s\tremaining: 29m 10s\n",
      "Stopped by overfitting detector  (50 iterations wait)\n",
      "\n",
      "bestTest = 0.9989590774\n",
      "bestIteration = 140\n",
      "\n",
      "Shrink model to first 141 iterations.\n"
     ]
    },
    {
     "data": {
      "text/plain": [
       "<catboost.core.CatBoostClassifier at 0x20a803730b0>"
      ]
     },
     "execution_count": 36,
     "metadata": {},
     "output_type": "execute_result"
    }
   ],
   "execution_count": 36
  },
  {
   "metadata": {
    "ExecuteTime": {
     "end_time": "2024-10-31T16:23:01.499558Z",
     "start_time": "2024-10-31T16:23:01.301712Z"
    }
   },
   "cell_type": "code",
   "source": "val_pred = model.predict_proba(val_pool)[:, 1]",
   "id": "4afc572e3e1c1619",
   "outputs": [],
   "execution_count": 37
  },
  {
   "metadata": {
    "ExecuteTime": {
     "end_time": "2024-10-31T16:23:02.024734Z",
     "start_time": "2024-10-31T16:23:01.581946Z"
    }
   },
   "cell_type": "code",
   "source": "roc_auc_score(val_data['result'], val_pred)",
   "id": "489b8c17de94e570",
   "outputs": [
    {
     "data": {
      "text/plain": [
       "0.9989590774144912"
      ]
     },
     "execution_count": 38,
     "metadata": {},
     "output_type": "execute_result"
    }
   ],
   "execution_count": 38
  },
  {
   "metadata": {},
   "cell_type": "markdown",
   "source": "# Создание копии данных валидации для инференса",
   "id": "3c41651708e86b18"
  },
  {
   "metadata": {
    "ExecuteTime": {
     "end_time": "2024-10-31T16:23:54.971790Z",
     "start_time": "2024-10-31T16:23:54.968280Z"
    }
   },
   "cell_type": "code",
   "source": "",
   "id": "925fecb5bf117146",
   "outputs": [],
   "execution_count": null
  },
  {
   "metadata": {
    "ExecuteTime": {
     "end_time": "2024-10-31T16:29:33.208941Z",
     "start_time": "2024-10-31T16:29:33.182432Z"
    }
   },
   "cell_type": "code",
   "source": "new_triggers = val_data.copy()",
   "id": "34b9c38d29846a78",
   "outputs": [],
   "execution_count": 61
  },
  {
   "metadata": {
    "ExecuteTime": {
     "end_time": "2024-10-31T16:29:34.394340Z",
     "start_time": "2024-10-31T16:29:33.642279Z"
    }
   },
   "cell_type": "code",
   "source": [
    "last_interactions = actions.groupby('guid')['date'].max().reset_index()\n",
    "last_interactions.columns = ['guid', 'last_action_date']"
   ],
   "id": "68815e84b7066a77",
   "outputs": [],
   "execution_count": 62
  },
  {
   "metadata": {
    "ExecuteTime": {
     "end_time": "2024-10-31T16:29:34.463110Z",
     "start_time": "2024-10-31T16:29:34.399884Z"
    }
   },
   "cell_type": "code",
   "source": [
    "new_triggers['guid'] = new_triggers['guid'].astype(str)\n",
    "last_interactions['guid'] = last_interactions['guid'].astype(str)"
   ],
   "id": "6a40922ee5cca8f8",
   "outputs": [],
   "execution_count": 63
  },
  {
   "metadata": {
    "ExecuteTime": {
     "end_time": "2024-10-31T16:29:35.187613Z",
     "start_time": "2024-10-31T16:29:34.878601Z"
    }
   },
   "cell_type": "code",
   "source": "new_triggers = new_triggers.merge(last_interactions, on='guid', how='left')",
   "id": "b94a80b939d7cba8",
   "outputs": [],
   "execution_count": 64
  },
  {
   "metadata": {
    "ExecuteTime": {
     "end_time": "2024-10-31T16:29:35.339226Z",
     "start_time": "2024-10-31T16:29:35.297857Z"
    }
   },
   "cell_type": "code",
   "source": [
    "new_triggers['time_since_last_action'] = (new_triggers['date'] - new_triggers['last_action_date']).dt.total_seconds() / (3600*24)\n",
    "new_triggers['time_since_last_action'] = new_triggers['time_since_last_action'].fillna(float('inf'))"
   ],
   "id": "9ed24ac6e1496875",
   "outputs": [],
   "execution_count": 65
  },
  {
   "metadata": {
    "ExecuteTime": {
     "end_time": "2024-10-31T16:29:35.743078Z",
     "start_time": "2024-10-31T16:29:35.696911Z"
    }
   },
   "cell_type": "code",
   "source": "new_triggers = new_triggers[new_triggers['time_since_last_action'] > 14]",
   "id": "dc7d789d23727cb",
   "outputs": [],
   "execution_count": 66
  },
  {
   "metadata": {
    "ExecuteTime": {
     "end_time": "2024-10-31T16:29:36.513602Z",
     "start_time": "2024-10-31T16:29:36.131994Z"
    }
   },
   "cell_type": "code",
   "source": [
    "new_triggers = new_triggers.sort_values(['guid', 'date']).reset_index(drop=True)\n",
    "new_triggers['time_since_last_trigger'] = new_triggers.groupby('guid')['date'].diff().dt.total_seconds() / (3600*24)\n",
    "new_triggers['time_since_last_trigger'] = new_triggers['time_since_last_trigger'].fillna(float('inf'))\n",
    "new_triggers['trigger_count'] = new_triggers.groupby('guid').cumcount()"
   ],
   "id": "6db77d14d024fa72",
   "outputs": [],
   "execution_count": 67
  },
  {
   "metadata": {
    "ExecuteTime": {
     "end_time": "2024-10-31T16:29:50.639585Z",
     "start_time": "2024-10-31T16:29:36.556511Z"
    }
   },
   "cell_type": "code",
   "source": [
    "prev_successes = merged.groupby('guid')['result'].sum().reset_index()\n",
    "prev_successes.columns = ['guid', 'prev_successes']\n",
    "prev_successes['guid'] = prev_successes['guid'].astype(str)"
   ],
   "id": "f53f88ceb856b6c2",
   "outputs": [],
   "execution_count": 68
  },
  {
   "metadata": {
    "ExecuteTime": {
     "end_time": "2024-10-31T16:29:51.270842Z",
     "start_time": "2024-10-31T16:29:50.646559Z"
    }
   },
   "cell_type": "code",
   "source": "new_triggers = new_triggers.merge(prev_successes, on='guid', how='left')",
   "id": "5b89d4db6051883e",
   "outputs": [],
   "execution_count": 69
  },
  {
   "metadata": {
    "ExecuteTime": {
     "end_time": "2024-10-31T16:29:51.329995Z",
     "start_time": "2024-10-31T16:29:51.309739Z"
    }
   },
   "cell_type": "code",
   "source": [
    "new_triggers['prev_successes'] = new_triggers['prev_successes_x']\n",
    "new_triggers.drop(['prev_successes_x', 'prev_successes_y'], axis=1, inplace=True)"
   ],
   "id": "853c4d6fa380b24",
   "outputs": [],
   "execution_count": 70
  },
  {
   "metadata": {
    "ExecuteTime": {
     "end_time": "2024-10-31T16:29:51.561835Z",
     "start_time": "2024-10-31T16:29:51.361191Z"
    }
   },
   "cell_type": "code",
   "source": "inference_pool = Pool(new_triggers[features], cat_features=categorical_features)",
   "id": "cd6089980b9bc00b",
   "outputs": [],
   "execution_count": 71
  },
  {
   "metadata": {
    "ExecuteTime": {
     "end_time": "2024-10-31T16:29:51.636525Z",
     "start_time": "2024-10-31T16:29:51.596964Z"
    }
   },
   "cell_type": "code",
   "source": "new_triggers['predicted_probability'] = model.predict_proba(inference_pool)[:, 1]",
   "id": "d40b21654c2554bf",
   "outputs": [],
   "execution_count": 72
  },
  {
   "metadata": {
    "ExecuteTime": {
     "end_time": "2024-10-31T16:29:51.706024Z",
     "start_time": "2024-10-31T16:29:51.687509Z"
    }
   },
   "cell_type": "code",
   "source": "new_triggers[['guid', 'date', 'trigger', 'type', 'predicted_probability']]",
   "id": "a0303081fe176552",
   "outputs": [
    {
     "data": {
      "text/plain": [
       "                                        guid                date  trigger  \\\n",
       "0       018780a7-2870-b8c0-8fd7-d8621b6bdd65 2024-05-04 08:12:43     1811   \n",
       "1       018780a8-f642-fb39-d2ac-4b3fb38f70e2 2024-05-04 07:57:38      243   \n",
       "2       018780a8-f642-fb39-d2ac-4b3fb38f70e2 2024-05-04 07:57:45      243   \n",
       "3       018780a8-f642-fb39-d2ac-4b3fb38f70e2 2024-05-04 07:57:51      243   \n",
       "4       018783bd-1443-546f-0e9a-f4083a01db2c 2024-05-04 07:24:37     1815   \n",
       "...                                      ...                 ...      ...   \n",
       "323179  018f42de-95da-8289-5b57-5aa27b65896b 2024-05-04 09:10:26      187   \n",
       "323180  018f42de-9866-b6f9-e09d-217467112f23 2024-05-04 09:10:27      105   \n",
       "323181  018f42de-9866-b6f9-e09d-217467112f23 2024-05-04 09:10:29      105   \n",
       "323182  018f42de-9fa2-fedb-5069-5170e9cb6aff 2024-05-04 09:10:28     2096   \n",
       "323183  018f42de-a651-bac6-ea30-dc5a94988ecd 2024-05-04 09:10:29      114   \n",
       "\n",
       "        type  predicted_probability  \n",
       "0          2               0.010847  \n",
       "1          1               0.004844  \n",
       "2          1               0.000770  \n",
       "3          1               0.000096  \n",
       "4          2               0.010847  \n",
       "...      ...                    ...  \n",
       "323179     1               0.004793  \n",
       "323180     1               0.004844  \n",
       "323181     1               0.000801  \n",
       "323182     1               0.005388  \n",
       "323183     1               0.005388  \n",
       "\n",
       "[323184 rows x 5 columns]"
      ],
      "text/html": [
       "<div>\n",
       "<style scoped>\n",
       "    .dataframe tbody tr th:only-of-type {\n",
       "        vertical-align: middle;\n",
       "    }\n",
       "\n",
       "    .dataframe tbody tr th {\n",
       "        vertical-align: top;\n",
       "    }\n",
       "\n",
       "    .dataframe thead th {\n",
       "        text-align: right;\n",
       "    }\n",
       "</style>\n",
       "<table border=\"1\" class=\"dataframe\">\n",
       "  <thead>\n",
       "    <tr style=\"text-align: right;\">\n",
       "      <th></th>\n",
       "      <th>guid</th>\n",
       "      <th>date</th>\n",
       "      <th>trigger</th>\n",
       "      <th>type</th>\n",
       "      <th>predicted_probability</th>\n",
       "    </tr>\n",
       "  </thead>\n",
       "  <tbody>\n",
       "    <tr>\n",
       "      <th>0</th>\n",
       "      <td>018780a7-2870-b8c0-8fd7-d8621b6bdd65</td>\n",
       "      <td>2024-05-04 08:12:43</td>\n",
       "      <td>1811</td>\n",
       "      <td>2</td>\n",
       "      <td>0.010847</td>\n",
       "    </tr>\n",
       "    <tr>\n",
       "      <th>1</th>\n",
       "      <td>018780a8-f642-fb39-d2ac-4b3fb38f70e2</td>\n",
       "      <td>2024-05-04 07:57:38</td>\n",
       "      <td>243</td>\n",
       "      <td>1</td>\n",
       "      <td>0.004844</td>\n",
       "    </tr>\n",
       "    <tr>\n",
       "      <th>2</th>\n",
       "      <td>018780a8-f642-fb39-d2ac-4b3fb38f70e2</td>\n",
       "      <td>2024-05-04 07:57:45</td>\n",
       "      <td>243</td>\n",
       "      <td>1</td>\n",
       "      <td>0.000770</td>\n",
       "    </tr>\n",
       "    <tr>\n",
       "      <th>3</th>\n",
       "      <td>018780a8-f642-fb39-d2ac-4b3fb38f70e2</td>\n",
       "      <td>2024-05-04 07:57:51</td>\n",
       "      <td>243</td>\n",
       "      <td>1</td>\n",
       "      <td>0.000096</td>\n",
       "    </tr>\n",
       "    <tr>\n",
       "      <th>4</th>\n",
       "      <td>018783bd-1443-546f-0e9a-f4083a01db2c</td>\n",
       "      <td>2024-05-04 07:24:37</td>\n",
       "      <td>1815</td>\n",
       "      <td>2</td>\n",
       "      <td>0.010847</td>\n",
       "    </tr>\n",
       "    <tr>\n",
       "      <th>...</th>\n",
       "      <td>...</td>\n",
       "      <td>...</td>\n",
       "      <td>...</td>\n",
       "      <td>...</td>\n",
       "      <td>...</td>\n",
       "    </tr>\n",
       "    <tr>\n",
       "      <th>323179</th>\n",
       "      <td>018f42de-95da-8289-5b57-5aa27b65896b</td>\n",
       "      <td>2024-05-04 09:10:26</td>\n",
       "      <td>187</td>\n",
       "      <td>1</td>\n",
       "      <td>0.004793</td>\n",
       "    </tr>\n",
       "    <tr>\n",
       "      <th>323180</th>\n",
       "      <td>018f42de-9866-b6f9-e09d-217467112f23</td>\n",
       "      <td>2024-05-04 09:10:27</td>\n",
       "      <td>105</td>\n",
       "      <td>1</td>\n",
       "      <td>0.004844</td>\n",
       "    </tr>\n",
       "    <tr>\n",
       "      <th>323181</th>\n",
       "      <td>018f42de-9866-b6f9-e09d-217467112f23</td>\n",
       "      <td>2024-05-04 09:10:29</td>\n",
       "      <td>105</td>\n",
       "      <td>1</td>\n",
       "      <td>0.000801</td>\n",
       "    </tr>\n",
       "    <tr>\n",
       "      <th>323182</th>\n",
       "      <td>018f42de-9fa2-fedb-5069-5170e9cb6aff</td>\n",
       "      <td>2024-05-04 09:10:28</td>\n",
       "      <td>2096</td>\n",
       "      <td>1</td>\n",
       "      <td>0.005388</td>\n",
       "    </tr>\n",
       "    <tr>\n",
       "      <th>323183</th>\n",
       "      <td>018f42de-a651-bac6-ea30-dc5a94988ecd</td>\n",
       "      <td>2024-05-04 09:10:29</td>\n",
       "      <td>114</td>\n",
       "      <td>1</td>\n",
       "      <td>0.005388</td>\n",
       "    </tr>\n",
       "  </tbody>\n",
       "</table>\n",
       "<p>323184 rows × 5 columns</p>\n",
       "</div>"
      ]
     },
     "execution_count": 73,
     "metadata": {},
     "output_type": "execute_result"
    }
   ],
   "execution_count": 73
  },
  {
   "metadata": {},
   "cell_type": "code",
   "outputs": [],
   "execution_count": null,
   "source": "",
   "id": "4f41e9df554b0e0d"
  }
 ],
 "metadata": {
  "kernelspec": {
   "display_name": "Python 3",
   "language": "python",
   "name": "python3"
  },
  "language_info": {
   "codemirror_mode": {
    "name": "ipython",
    "version": 2
   },
   "file_extension": ".py",
   "mimetype": "text/x-python",
   "name": "python",
   "nbconvert_exporter": "python",
   "pygments_lexer": "ipython2",
   "version": "2.7.6"
  }
 },
 "nbformat": 4,
 "nbformat_minor": 5
}
